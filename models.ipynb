{
 "cells": [
  {
   "cell_type": "code",
   "execution_count": 5,
   "metadata": {},
   "outputs": [],
   "source": [
    "import tensorflow as tf\n",
    "import tensorflow_hub as hub\n",
    "from tensorflow.keras.preprocessing.image import ImageDataGenerator\n",
    "from tensorflow.keras.preprocessing import image;\n",
    "from tensorflow.keras.optimizers import RMSprop\n",
    "import matplotlib.pyplot as plt\n",
    "import tensorflow as tf\n",
    "import numpy as np\n",
    "import cv2\n",
    "import os\n",
    "IMAGE_SHAPE=(224,224)\n",
    "def create_model(model_url,num_classes=2):\n",
    "    feature_extractor_layer=hub.KerasLayer(model_url,\n",
    "                                         trainable=False, # frezze already learned model\n",
    "                                         name=\"feature_extraction_layers\",\n",
    "                                         input_shape=IMAGE_SHAPE+(3,)\n",
    "                                         )\n",
    "  # Create our model model\n",
    "  \n"
   ]
  },
  {
   "cell_type": "code",
   "execution_count": 3,
   "metadata": {},
   "outputs": [
    {
     "ename": "ModuleNotFoundError",
     "evalue": "No module named 'tensorflow'",
     "output_type": "error",
     "traceback": [
      "\u001b[1;31m---------------------------------------------------------------------------\u001b[0m",
      "\u001b[1;31mModuleNotFoundError\u001b[0m                       Traceback (most recent call last)",
      "\u001b[1;32mc:\\ALL\\liver cancer\\models.ipynb Cell 2\u001b[0m line \u001b[0;36m1\n\u001b[1;32m----> <a href='vscode-notebook-cell:/c%3A/ALL/liver%20cancer/models.ipynb#W1sZmlsZQ%3D%3D?line=0'>1</a>\u001b[0m \u001b[39mimport\u001b[39;00m \u001b[39mtensorflow\u001b[39;00m \u001b[39mas\u001b[39;00m \u001b[39mtf\u001b[39;00m\n\u001b[0;32m      <a href='vscode-notebook-cell:/c%3A/ALL/liver%20cancer/models.ipynb#W1sZmlsZQ%3D%3D?line=1'>2</a>\u001b[0m model\u001b[39m=\u001b[39mtf\u001b[39m.\u001b[39mkeras\u001b[39m.\u001b[39mSequential([\n\u001b[0;32m      <a href='vscode-notebook-cell:/c%3A/ALL/liver%20cancer/models.ipynb#W1sZmlsZQ%3D%3D?line=2'>3</a>\u001b[0m         tf\u001b[39m.\u001b[39mfeature_extractor_layer,\n\u001b[0;32m      <a href='vscode-notebook-cell:/c%3A/ALL/liver%20cancer/models.ipynb#W1sZmlsZQ%3D%3D?line=3'>4</a>\u001b[0m       tf\u001b[39m.\u001b[39mkeras\u001b[39m.\u001b[39mlayers\u001b[39m.\u001b[39mDense(\u001b[39m512\u001b[39m,activation\u001b[39m=\u001b[39m\u001b[39m'\u001b[39m\u001b[39mrelu\u001b[39m\u001b[39m'\u001b[39m),\n\u001b[0;32m      <a href='vscode-notebook-cell:/c%3A/ALL/liver%20cancer/models.ipynb#W1sZmlsZQ%3D%3D?line=4'>5</a>\u001b[0m       tf\u001b[39m.\u001b[39mkeras\u001b[39m.\u001b[39mlayers\u001b[39m.\u001b[39mDense(num_classes,activation\u001b[39m=\u001b[39m\u001b[39m'\u001b[39m\u001b[39msigmoid\u001b[39m\u001b[39m'\u001b[39m,name\u001b[39m=\u001b[39m\u001b[39m'\u001b[39m\u001b[39moutput_layer\u001b[39m\u001b[39m'\u001b[39m)\n\u001b[0;32m      <a href='vscode-notebook-cell:/c%3A/ALL/liver%20cancer/models.ipynb#W1sZmlsZQ%3D%3D?line=5'>6</a>\u001b[0m   ])\n\u001b[0;32m      <a href='vscode-notebook-cell:/c%3A/ALL/liver%20cancer/models.ipynb#W1sZmlsZQ%3D%3D?line=7'>8</a>\u001b[0m   \u001b[39m# Compile model \u001b[39;00m\n",
      "\u001b[1;31mModuleNotFoundError\u001b[0m: No module named 'tensorflow'"
     ]
    }
   ],
   "source": [
    "import tensorflow as tf\n",
    "model=tf.keras.Sequential([\n",
    "        tf.feature_extractor_layer,\n",
    "      tf.keras.layers.Dense(512,activation='relu'),\n",
    "      tf.keras.layers.Dense(num_classes,activation='sigmoid',name='output_layer')\n",
    "  ])\n",
    "\n",
    "  # Compile model \n",
    "model.compile(loss=tf.keras.losses.BinaryCrossentropy(),optimizer=tf.keras.optimizers.RMSprop(learning_rate=0.001),metrics=['accuracy'])\n",
    "return model"
   ]
  },
  {
   "cell_type": "code",
   "execution_count": null,
   "metadata": {},
   "outputs": [],
   "source": [
    "# Let's create a function to plot model loss curve\n",
    "import pandas as pd\n",
    "import matplotlib.pyplot as plt\n",
    "# Plot the validation and training curves seprately\n",
    "\n",
    "\n",
    "def plot_loss_accuracy_curve(history):\n",
    "    '''Take history variable and plot loss and accuracy curve'''\n",
    "    # Creating a subplot\n",
    "\n",
    "    fig, ax = plt.subplots(1, 2, figsize=(10, 7))\n",
    "    fig.subplots_adjust(right=2)  # Set left padding in graph\n",
    "    ax = ax.ravel()\n",
    "\n",
    "    # This is for plotting loss curve and lowest accuracy on training data\n",
    "\n",
    "    pd.DataFrame({'Training_Loss': history.history['loss'], 'Val_Loss': history.history['val_loss']}).\\\n",
    "        plot(title='Loss', ax=ax[0])  # Plot loss curve\n",
    "    ax[0].set_xlabel('epochs', fontdict={'size': 10})\n",
    "    ax[0].text(len(history.history['loss'])-1.2, history.history['loss'][-1],  # Annotate lowest accuracy\n",
    "               'Min_Loss:{}'.format(round(history.history['loss'][-1], 2)),\n",
    "               fontdict={'size': 15, 'color': 'blue', 'style': 'oblique'})\n",
    "    ax[0].text(len(history.history['val_loss'])-1.2, history.history['val_loss'][-1],  # Annotate lowest accuracy\n",
    "               'Min_Val_Loss:{}'.format(\n",
    "                   round(history.history['val_loss'][-1], 2)),\n",
    "               fontdict={'size': 15, 'color': 'red', 'style': 'oblique'})\n",
    "    # This is for plotting accuracy curve and highest accuracy on training data\n",
    "\n",
    "    pd.DataFrame({'Training_Accuracy': history.history['accuracy'], 'Val_Accuracy': history.history['val_accuracy']})\\\n",
    "        .plot(title='Accuracy', ax=ax[1])  # Plot accuracy curve\n",
    "    ax[1].set_xlabel('epochs', fontdict={'size': 10})\n",
    "    ax[1].text(len(history.history['accuracy'])-1.2, history.history['accuracy'][-1],  # Annotate Highest Accuracy\n",
    "               'Max_Acc: {}'.format(round(history.history['accuracy'][-1], 2)),\n",
    "               fontdict={'size': 15, 'color': 'blue', 'style': 'oblique'})\n",
    "    ax[1].text(len(history.history['val_accuracy'])-1.2, history.history['val_accuracy'][-1],  # Annotate Highest Accuracy\n",
    "               'Max_Val_Acc: {}'.format(\n",
    "                   round(history.history['val_accuracy'][-1], 2)),\n",
    "               fontdict={'size': 15, 'color': 'red', 'style': 'oblique'})\n",
    "    plt.show()  # Show plot"
   ]
  },
  {
   "cell_type": "code",
   "execution_count": null,
   "metadata": {},
   "outputs": [],
   "source": [
    "mobilenetv1_model = create_model(\n",
    "    'https://tfhub.dev/google/imagenet/mobilenet_v1_025_128/classification/5')\n",
    "mobilenetv1_model.summary()"
   ]
  },
  {
   "cell_type": "code",
   "execution_count": null,
   "metadata": {},
   "outputs": [],
   "source": [
    "mobilenetv1_history = mobilenetv1_model.fit(train_dataset,\n",
    "                                            steps_per_epoch=len(train_dataset),\n",
    "                                            validation_data=validation_data,\n",
    "                                            validation_steps=len(validation_data),\n",
    "                                            epochs=10)"
   ]
  },
  {
   "cell_type": "code",
   "execution_count": null,
   "metadata": {},
   "outputs": [],
   "source": [
    "plot_loss_accuracy_curve(mobilenetv1_history)"
   ]
  },
  {
   "cell_type": "code",
   "execution_count": null,
   "metadata": {},
   "outputs": [],
   "source": [
    "# Create the efficent net model\n",
    "efficientnet_model = create_model(\n",
    "    model_url='https://tfhub.dev/tensorflow/efficientnet/b0/feature-vector/1')\n",
    "# Get model summary\n",
    "efficientnet_model.summary()"
   ]
  },
  {
   "cell_type": "code",
   "execution_count": null,
   "metadata": {},
   "outputs": [],
   "source": [
    "efficientnet_history = efficientnet_model.fit(train_dataset,\n",
    "                                        steps_per_epoch=len(train_dataset),\n",
    "                                        validation_data=validation_data,\n",
    "                                        validation_steps=len(validation_data),\n",
    "                                        epochs=10)"
   ]
  },
  {
   "cell_type": "code",
   "execution_count": null,
   "metadata": {},
   "outputs": [],
   "source": [
    "plot_loss_accuracy_curve(efficientnet_history)"
   ]
  }
 ],
 "metadata": {
  "kernelspec": {
   "display_name": "Python 3 (ipykernel)",
   "language": "python",
   "name": "python3"
  },
  "language_info": {
   "codemirror_mode": {
    "name": "ipython",
    "version": 3
   },
   "file_extension": ".py",
   "mimetype": "text/x-python",
   "name": "python",
   "nbconvert_exporter": "python",
   "pygments_lexer": "ipython3",
   "version": "3.10.11"
  }
 },
 "nbformat": 4,
 "nbformat_minor": 4
}
